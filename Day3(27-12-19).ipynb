{
 "cells": [
  {
   "cell_type": "markdown",
   "metadata": {},
   "source": [
    "# control structures:\n",
    "\n",
    "# for loop\n",
    "# while loop\n",
    "## for loop:\n",
    "## for var in sequence/object:\n",
    "        statement-s\n",
    "# or\n",
    "### for var in range(start,stop,step):\n",
    "\n",
    "## while loop\n",
    "\n",
    "### while condition:\n",
    "        statements"
   ]
  },
  {
   "cell_type": "code",
   "execution_count": 4,
   "metadata": {},
   "outputs": [
    {
     "name": "stdout",
     "output_type": "stream",
     "text": [
      "enter the range10\n",
      "12345678910"
     ]
    }
   ],
   "source": [
    "n=int(input(\"enter the range\"))\n",
    "for i in range(1,n+1):\n",
    "     print(i,end='')"
   ]
  },
  {
   "cell_type": "code",
   "execution_count": 5,
   "metadata": {},
   "outputs": [
    {
     "name": "stdout",
     "output_type": "stream",
     "text": [
      "enter the range10\n",
      "0\n",
      "1\n",
      "2\n",
      "3\n",
      "4\n",
      "5\n",
      "6\n",
      "7\n",
      "8\n",
      "9\n"
     ]
    }
   ],
   "source": [
    "n=int(input(\"enter the range\"))\n",
    "for i in range(n):\n",
    "     print(i)"
   ]
  },
  {
   "cell_type": "code",
   "execution_count": 16,
   "metadata": {},
   "outputs": [
    {
     "name": "stdout",
     "output_type": "stream",
     "text": [
      "0 1 2 3 4 5 \n",
      "1 2 3 4 5 \n",
      "1 3 5 7 9 "
     ]
    }
   ],
   "source": [
    "for i in range(6):\n",
    "    print (i,end=\" \")\n",
    "print()\n",
    "for i in range(1,6):\n",
    "    print(i,end=\" \")\n",
    "print()\n",
    "for i in range(1,10,2):\n",
    "    print(i,end=\" \")"
   ]
  },
  {
   "cell_type": "code",
   "execution_count": 11,
   "metadata": {},
   "outputs": [
    {
     "name": "stdout",
     "output_type": "stream",
     "text": [
      " 10\n",
      "55\n"
     ]
    }
   ],
   "source": [
    "n=int(input(\" \"))\n",
    "sum=0\n",
    "for i in range(n+1):\n",
    "    sum=sum+i\n",
    "print(sum)"
   ]
  },
  {
   "cell_type": "code",
   "execution_count": 22,
   "metadata": {},
   "outputs": [
    {
     "name": "stdout",
     "output_type": "stream",
     "text": [
      "k r i s h n a \n",
      "k r i s h n a "
     ]
    }
   ],
   "source": [
    "str1=\"krishna\"\n",
    "for i in str1:\n",
    "    print(i,end=\" \")\n",
    "print()\n",
    "for i in range(len(str1)):\n",
    "    print(str1[i],end=\" \")"
   ]
  },
  {
   "cell_type": "code",
   "execution_count": 1,
   "metadata": {},
   "outputs": [
    {
     "name": "stdout",
     "output_type": "stream",
     "text": [
      " 10\n",
      "1 2 3 4 5 6 7 8 9 10 "
     ]
    }
   ],
   "source": [
    "n=int(input(\" \"))\n",
    "i=1\n",
    "while(i<=n):\n",
    "    print(i,end=\" \")\n",
    "    i=i+1\n",
    "    "
   ]
  },
  {
   "cell_type": "code",
   "execution_count": 2,
   "metadata": {},
   "outputs": [
    {
     "name": "stdout",
     "output_type": "stream",
     "text": [
      "enter the num123\n",
      "3 2 1 "
     ]
    }
   ],
   "source": [
    "n=int(input(\"enter the num\"))\n",
    "while n!=0:\n",
    "    r=n%10\n",
    "    print(r,end=' ')\n",
    "    n=n//10"
   ]
  },
  {
   "cell_type": "code",
   "execution_count": 3,
   "metadata": {},
   "outputs": [
    {
     "name": "stdout",
     "output_type": "stream",
     "text": [
      "enter the num123\n",
      "6\n"
     ]
    }
   ],
   "source": [
    "n=int(input(\"enter the num\"))\n",
    "sum=0\n",
    "while n!=0:\n",
    "    r=n%10\n",
    "    sum=sum+r\n",
    "    n=n//10\n",
    "print(sum)\n",
    "    "
   ]
  },
  {
   "cell_type": "code",
   "execution_count": 4,
   "metadata": {},
   "outputs": [
    {
     "name": "stdout",
     "output_type": "stream",
     "text": [
      " 125\n",
      "521\n"
     ]
    }
   ],
   "source": [
    "n=int(input(\" \"))\n",
    "rev=0\n",
    "while(n!=0):\n",
    "    r=n%10\n",
    "    rev=rev*10+r\n",
    "    n=n//10\n",
    "print(rev)"
   ]
  },
  {
   "cell_type": "code",
   "execution_count": 5,
   "metadata": {},
   "outputs": [
    {
     "name": "stdout",
     "output_type": "stream",
     "text": [
      " 121\n",
      "121\n",
      "palindrome\n"
     ]
    }
   ],
   "source": [
    "n=int(input(\" \"))\n",
    "num=n\n",
    "rev=0\n",
    "while(n!=0):\n",
    "    r=n%10\n",
    "    rev=rev*10+r\n",
    "    n=n//10\n",
    "print(rev)\n",
    "if(rev==num):\n",
    "    print(\"palindrome\")\n",
    "else:\n",
    "    print(\"not a palindrome\")"
   ]
  },
  {
   "cell_type": "code",
   "execution_count": 8,
   "metadata": {},
   "outputs": [
    {
     "name": "stdout",
     "output_type": "stream",
     "text": [
      " 12365\n",
      "1\n"
     ]
    }
   ],
   "source": [
    "n=int(input(\" \"))\n",
    "min=9\n",
    "while(n!=0):\n",
    "    r=n%10\n",
    "    if(r<min):\n",
    "        min=r\n",
    "    n=n//10\n",
    "print(min)"
   ]
  },
  {
   "cell_type": "code",
   "execution_count": 10,
   "metadata": {},
   "outputs": [
    {
     "name": "stdout",
     "output_type": "stream",
     "text": [
      " 5\n",
      "120\n"
     ]
    }
   ],
   "source": [
    "n=int(input(\" \"))\n",
    "fact=1\n",
    "i=1\n",
    "while(i<=n):\n",
    "    fact=fact*i\n",
    "    i=i+1\n",
    "print(fact)"
   ]
  },
  {
   "cell_type": "code",
   "execution_count": 11,
   "metadata": {},
   "outputs": [
    {
     "name": "stdout",
     "output_type": "stream",
     "text": [
      "25\n"
     ]
    }
   ],
   "source": [
    "def add(a,b):\n",
    "    c=a+b\n",
    "    return c\n",
    "a=10\n",
    "b=15\n",
    "print(add(a,b))"
   ]
  },
  {
   "cell_type": "code",
   "execution_count": 13,
   "metadata": {},
   "outputs": [
    {
     "name": "stdout",
     "output_type": "stream",
     "text": [
      " 13469\n",
      "10\n"
     ]
    }
   ],
   "source": [
    "def evendigitsum(n):\n",
    "    sum=0\n",
    "    while(n!=0):\n",
    "        r=n%10\n",
    "        if(r%2==0):\n",
    "            sum=sum+r\n",
    "        n=n//10\n",
    "    return sum\n",
    "n=int(input(\" \"))\n",
    "print(evendigitsum(n))\n",
    "            "
   ]
  },
  {
   "cell_type": "code",
   "execution_count": 19,
   "metadata": {},
   "outputs": [
    {
     "name": "stdout",
     "output_type": "stream",
     "text": [
      " 6\n",
      "1 2 3 6 "
     ]
    }
   ],
   "source": [
    "def factors(n):\n",
    "    for i in range(1,n+1):\n",
    "        if(n%i==0):\n",
    "            print(i,end=\" \")\n",
    "    return\n",
    "n=int(input(\" \"))\n",
    "factors(n)\n",
    "\n",
    "           "
   ]
  },
  {
   "cell_type": "code",
   "execution_count": 20,
   "metadata": {},
   "outputs": [
    {
     "data": {
      "text/plain": [
       "'C:\\\\Users\\\\student\\\\221710312054'"
      ]
     },
     "execution_count": 20,
     "metadata": {},
     "output_type": "execute_result"
    }
   ],
   "source": [
    "pwd()"
   ]
  },
  {
   "cell_type": "code",
   "execution_count": null,
   "metadata": {},
   "outputs": [],
   "source": []
  }
 ],
 "metadata": {
  "kernelspec": {
   "display_name": "Python 3",
   "language": "python",
   "name": "python3"
  },
  "language_info": {
   "codemirror_mode": {
    "name": "ipython",
    "version": 3
   },
   "file_extension": ".py",
   "mimetype": "text/x-python",
   "name": "python",
   "nbconvert_exporter": "python",
   "pygments_lexer": "ipython3",
   "version": "3.7.3"
  }
 },
 "nbformat": 4,
 "nbformat_minor": 2
}
