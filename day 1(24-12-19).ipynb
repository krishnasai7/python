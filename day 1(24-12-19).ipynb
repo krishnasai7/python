{
 "cells": [
  {
   "cell_type": "markdown",
   "metadata": {},
   "source": [
    "# welome to python"
   ]
  },
  {
   "cell_type": "markdown",
   "metadata": {},
   "source": [
    "## python is very popular language"
   ]
  },
  {
   "cell_type": "markdown",
   "metadata": {},
   "source": [
    "# to insert an image\n",
    "![]()\n",
    "![title](linkaddress)"
   ]
  },
  {
   "cell_type": "markdown",
   "metadata": {},
   "source": [
    "![image](https://hackernoon.com/drafts/q141s3xfs.png)"
   ]
  },
  {
   "cell_type": "markdown",
   "metadata": {},
   "source": [
    "# *python* "
   ]
  },
  {
   "cell_type": "markdown",
   "metadata": {},
   "source": [
    "# **python**"
   ]
  },
  {
   "cell_type": "markdown",
   "metadata": {},
   "source": [
    "# ***python***"
   ]
  },
  {
   "cell_type": "markdown",
   "metadata": {},
   "source": [
    "<font color=\"green\">KRISHNASAI</font>"
   ]
  },
  {
   "cell_type": "markdown",
   "metadata": {},
   "source": [
    "<a href=\"https://www.google.com\">CLICKHERE</a>"
   ]
  },
  {
   "cell_type": "markdown",
   "metadata": {},
   "source": [
    "<h1>INDIAN CRICKETERS</h1>\n",
    "<ul>\n",
    "    <li>MS DHONI</li>\n",
    "    <li>VIRATKOHLI</li>\n",
    "    <li>ROHITSHARMA</li>\n",
    "    </ul>\n",
    "  "
   ]
  },
  {
   "cell_type": "code",
   "execution_count": 1,
   "metadata": {},
   "outputs": [
    {
     "name": "stdout",
     "output_type": "stream",
     "text": [
      "I AM KRISHNASAI\n"
     ]
    }
   ],
   "source": [
    "print(\"I AM KRISHNASAI\")"
   ]
  },
  {
   "cell_type": "code",
   "execution_count": 2,
   "metadata": {},
   "outputs": [
    {
     "name": "stdout",
     "output_type": "stream",
     "text": [
      "\n",
      "Here is a list of the Python keywords.  Enter any keyword to get more help.\n",
      "\n",
      "False               class               from                or\n",
      "None                continue            global              pass\n",
      "True                def                 if                  raise\n",
      "and                 del                 import              return\n",
      "as                  elif                in                  try\n",
      "assert              else                is                  while\n",
      "async               except              lambda              with\n",
      "await               finally             nonlocal            yield\n",
      "break               for                 not                 \n",
      "\n"
     ]
    }
   ],
   "source": [
    "help(\"keywords\")"
   ]
  },
  {
   "cell_type": "code",
   "execution_count": 3,
   "metadata": {},
   "outputs": [
    {
     "ename": "SyntaxError",
     "evalue": "invalid syntax (<ipython-input-3-7f41577719b1>, line 1)",
     "output_type": "error",
     "traceback": [
      "\u001b[1;36m  File \u001b[1;32m\"<ipython-input-3-7f41577719b1>\"\u001b[1;36m, line \u001b[1;32m1\u001b[0m\n\u001b[1;33m    async\u001b[0m\n\u001b[1;37m         ^\u001b[0m\n\u001b[1;31mSyntaxError\u001b[0m\u001b[1;31m:\u001b[0m invalid syntax\n"
     ]
    }
   ],
   "source": [
    "async"
   ]
  },
  {
   "cell_type": "code",
   "execution_count": 4,
   "metadata": {},
   "outputs": [
    {
     "name": "stdout",
     "output_type": "stream",
     "text": [
      "Coroutines\n",
      "**********\n",
      "\n",
      "New in version 3.5.\n",
      "\n",
      "\n",
      "Coroutine function definition\n",
      "=============================\n",
      "\n",
      "   async_funcdef ::= [decorators] \"async\" \"def\" funcname \"(\" [parameter_list] \")\"\n",
      "                     [\"->\" expression] \":\" suite\n",
      "\n",
      "Execution of Python coroutines can be suspended and resumed at many\n",
      "points (see *coroutine*).  Inside the body of a coroutine function,\n",
      "\"await\" and \"async\" identifiers become reserved keywords; \"await\"\n",
      "expressions, \"async for\" and \"async with\" can only be used in\n",
      "coroutine function bodies.\n",
      "\n",
      "Functions defined with \"async def\" syntax are always coroutine\n",
      "functions, even if they do not contain \"await\" or \"async\" keywords.\n",
      "\n",
      "It is a \"SyntaxError\" to use a \"yield from\" expression inside the body\n",
      "of a coroutine function.\n",
      "\n",
      "An example of a coroutine function:\n",
      "\n",
      "   async def func(param1, param2):\n",
      "       do_stuff()\n",
      "       await some_coroutine()\n",
      "\n",
      "\n",
      "The \"async for\" statement\n",
      "=========================\n",
      "\n",
      "   async_for_stmt ::= \"async\" for_stmt\n",
      "\n",
      "An *asynchronous iterable* is able to call asynchronous code in its\n",
      "*iter* implementation, and *asynchronous iterator* can call\n",
      "asynchronous code in its *next* method.\n",
      "\n",
      "The \"async for\" statement allows convenient iteration over\n",
      "asynchronous iterators.\n",
      "\n",
      "The following code:\n",
      "\n",
      "   async for TARGET in ITER:\n",
      "       BLOCK\n",
      "   else:\n",
      "       BLOCK2\n",
      "\n",
      "Is semantically equivalent to:\n",
      "\n",
      "   iter = (ITER)\n",
      "   iter = type(iter).__aiter__(iter)\n",
      "   running = True\n",
      "   while running:\n",
      "       try:\n",
      "           TARGET = await type(iter).__anext__(iter)\n",
      "       except StopAsyncIteration:\n",
      "           running = False\n",
      "       else:\n",
      "           BLOCK\n",
      "   else:\n",
      "       BLOCK2\n",
      "\n",
      "See also \"__aiter__()\" and \"__anext__()\" for details.\n",
      "\n",
      "It is a \"SyntaxError\" to use an \"async for\" statement outside the body\n",
      "of a coroutine function.\n",
      "\n",
      "\n",
      "The \"async with\" statement\n",
      "==========================\n",
      "\n",
      "   async_with_stmt ::= \"async\" with_stmt\n",
      "\n",
      "An *asynchronous context manager* is a *context manager* that is able\n",
      "to suspend execution in its *enter* and *exit* methods.\n",
      "\n",
      "The following code:\n",
      "\n",
      "   async with EXPR as VAR:\n",
      "       BLOCK\n",
      "\n",
      "Is semantically equivalent to:\n",
      "\n",
      "   mgr = (EXPR)\n",
      "   aexit = type(mgr).__aexit__\n",
      "   aenter = type(mgr).__aenter__(mgr)\n",
      "\n",
      "   VAR = await aenter\n",
      "   try:\n",
      "       BLOCK\n",
      "   except:\n",
      "       if not await aexit(mgr, *sys.exc_info()):\n",
      "           raise\n",
      "   else:\n",
      "       await aexit(mgr, None, None, None)\n",
      "\n",
      "See also \"__aenter__()\" and \"__aexit__()\" for details.\n",
      "\n",
      "It is a \"SyntaxError\" to use an \"async with\" statement outside the\n",
      "body of a coroutine function.\n",
      "\n",
      "See also:\n",
      "\n",
      "  **PEP 492** - Coroutines with async and await syntax\n",
      "     The proposal that made coroutines a proper standalone concept in\n",
      "     Python, and added supporting syntax.\n",
      "\n",
      "-[ Footnotes ]-\n",
      "\n",
      "[1] The exception is propagated to the invocation stack unless\n",
      "    there is a \"finally\" clause which happens to raise another\n",
      "    exception. That new exception causes the old one to be lost.\n",
      "\n",
      "[2] A string literal appearing as the first statement in the\n",
      "    function body is transformed into the function’s \"__doc__\"\n",
      "    attribute and therefore the function’s *docstring*.\n",
      "\n",
      "[3] A string literal appearing as the first statement in the class\n",
      "    body is transformed into the namespace’s \"__doc__\" item and\n",
      "    therefore the class’s *docstring*.\n",
      "\n"
     ]
    }
   ],
   "source": [
    "help(\"async\")"
   ]
  },
  {
   "cell_type": "code",
   "execution_count": null,
   "metadata": {},
   "outputs": [],
   "source": []
  }
 ],
 "metadata": {
  "kernelspec": {
   "display_name": "Python 3",
   "language": "python",
   "name": "python3"
  },
  "language_info": {
   "codemirror_mode": {
    "name": "ipython",
    "version": 3
   },
   "file_extension": ".py",
   "mimetype": "text/x-python",
   "name": "python",
   "nbconvert_exporter": "python",
   "pygments_lexer": "ipython3",
   "version": "3.7.3"
  }
 },
 "nbformat": 4,
 "nbformat_minor": 2
}
